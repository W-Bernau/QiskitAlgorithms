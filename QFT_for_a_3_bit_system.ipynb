{
  "nbformat": 4,
  "nbformat_minor": 0,
  "metadata": {
    "colab": {
      "provenance": [],
      "authorship_tag": "ABX9TyO1u9/rbPCJziXvAobg4rB7",
      "include_colab_link": true
    },
    "kernelspec": {
      "name": "python3",
      "display_name": "Python 3"
    },
    "language_info": {
      "name": "python"
    }
  },
  "cells": [
    {
      "cell_type": "markdown",
      "metadata": {
        "id": "view-in-github",
        "colab_type": "text"
      },
      "source": [
        "<a href=\"https://colab.research.google.com/github/W-Bernau/QiskitAlgorithms/blob/main/QFT_for_a_3_bit_system.ipynb\" target=\"_parent\"><img src=\"https://colab.research.google.com/assets/colab-badge.svg\" alt=\"Open In Colab\"/></a>"
      ]
    },
    {
      "cell_type": "code",
      "execution_count": 28,
      "metadata": {
        "colab": {
          "base_uri": "https://localhost:8080/",
          "height": 94
        },
        "id": "Szw8tK6uX43h",
        "outputId": "e052954e-e946-4372-f62c-d5ddd38fd9ab"
      },
      "outputs": [
        {
          "output_type": "execute_result",
          "data": {
            "text/plain": [
              "           ░                  ░ ┌───┐ ░    \n",
              "q_0: ──────░────────■─────────░─┤ H ├─░──X─\n",
              "     ┌───┐ ░ ┌──────┴───────┐ ░ └───┘ ░  │ \n",
              "q_1: ┤ H ├─░─┤ U(π/2,0,1,0) ├─░───────░──X─\n",
              "     └───┘ ░ └──────────────┘ ░       ░    "
            ],
            "text/html": [
              "<pre style=\"word-wrap: normal;white-space: pre;background: #fff0;line-height: 1.1;font-family: &quot;Courier New&quot;,Courier,monospace\">           ░                  ░ ┌───┐ ░    \n",
              "q_0: ──────░────────■─────────░─┤ H ├─░──X─\n",
              "     ┌───┐ ░ ┌──────┴───────┐ ░ └───┘ ░  │ \n",
              "q_1: ┤ H ├─░─┤ U(π/2,0,1,0) ├─░───────░──X─\n",
              "     └───┘ ░ └──────────────┘ ░       ░    </pre>"
            ]
          },
          "metadata": {},
          "execution_count": 28
        }
      ],
      "source": [
        "from qiskit import *\n",
        "from math import pi\n",
        "import numpy as np\n",
        "from qiskit_aer import Aer\n",
        "from qiskit.visualization import *\n",
        "import matplotlib.pyplot as plt\n",
        "from qutip import *\n",
        "\n",
        "\n",
        "qc = QuantumCircuit(2)\n",
        "qc.h(1)\n",
        "qc.barrier()\n",
        "qc.cu(np.pi/2, 0, 1, 0, 0 ,1)\n",
        "qc.barrier()\n",
        "qc.h(0)\n",
        "qc.barrier()\n",
        "qc.swap(0,1)\n",
        "qc.draw()"
      ]
    },
    {
      "cell_type": "code",
      "source": [
        "backend = Aer.get_backend('statevector_simulator')\n",
        "out = (backend.run(transpile(qc,backend))).result().get_statevector()\n",
        "print(out)"
      ],
      "metadata": {
        "colab": {
          "base_uri": "https://localhost:8080/"
        },
        "id": "rg5YLJqBjhFd",
        "outputId": "3defc9ac-68d4-4b5e-ef06-d4c9e2947a83"
      },
      "execution_count": 27,
      "outputs": [
        {
          "output_type": "stream",
          "name": "stdout",
          "text": [
            "Statevector([0.5+0.j, 0.5+0.j, 0.5+0.j, 0.5+0.j],\n",
            "            dims=(2, 2))\n"
          ]
        }
      ]
    },
    {
      "cell_type": "code",
      "source": [
        "def qft3():\n",
        "    n = 3\n",
        "    q = QuantumRegister(n)\n",
        "    c = ClassicalRegister(n)\n",
        "    qc = QuantumCircuit(q,c)\n",
        "\n",
        "    qc.h(q[2])\n",
        "    qc.barrier()\n",
        "    qc.cu(np.pi/2, 0, 0, 0, q[1], q[2])\n",
        "    qc.barrier()\n",
        "    qc.h(q[1])\n",
        "    qc.barrier()\n",
        "    qc.cu(np.pi/4, 0, 0, 0, q[0], q[2])\n",
        "    qc.barrier()\n",
        "    qc.cu(np.pi/2, 0, 0, 0, q[0], q[1])\n",
        "    qc.barrier()\n",
        "    qc.h(q[0])\n",
        "    qc.barrier()\n",
        "    qc.swap(q[0], q[2])\n",
        "    return q,c,qc\n",
        "\n",
        "q,c,qc = qft3()\n",
        "qc.barrier()\n",
        "qc.draw()"
      ],
      "metadata": {
        "colab": {
          "base_uri": "https://localhost:8080/",
          "height": 356
        },
        "id": "xCIFLtLDks4b",
        "outputId": "3b2d8c24-ffaf-458f-a4c5-58d132ae8ad6"
      },
      "execution_count": 33,
      "outputs": [
        {
          "output_type": "execute_result",
          "data": {
            "text/plain": [
              "             ░                  ░       ░                  ░                 »\n",
              "q11_0: ──────░──────────────────░───────░────────■─────────░────────■────────»\n",
              "             ░                  ░ ┌───┐ ░        │         ░ ┌──────┴───────┐»\n",
              "q11_1: ──────░────────■─────────░─┤ H ├─░────────┼─────────░─┤ U(π/2,0,0,0) ├»\n",
              "       ┌───┐ ░ ┌──────┴───────┐ ░ └───┘ ░ ┌──────┴───────┐ ░ └──────────────┘»\n",
              "q11_2: ┤ H ├─░─┤ U(π/2,0,0,0) ├─░───────░─┤ U(π/4,0,0,0) ├─░─────────────────»\n",
              "       └───┘ ░ └──────────────┘ ░       ░ └──────────────┘ ░                 »\n",
              "q11_3: ──────░──────────────────░───────░──────────────────░─────────────────»\n",
              "             ░                  ░       ░                  ░                 »\n",
              " c2: 4/══════════════════════════════════════════════════════════════════════»\n",
              "                                                                             »\n",
              "«        ░ ┌───┐ ░     ░ \n",
              "«q11_0: ─░─┤ H ├─░──X──░─\n",
              "«        ░ └───┘ ░  │  ░ \n",
              "«q11_1: ─░───────░──┼──░─\n",
              "«        ░       ░  │  ░ \n",
              "«q11_2: ─░───────░──X──░─\n",
              "«        ░       ░     ░ \n",
              "«q11_3: ─░───────░─────░─\n",
              "«        ░       ░     ░ \n",
              "« c2: 4/═════════════════\n",
              "«                        "
            ],
            "text/html": [
              "<pre style=\"word-wrap: normal;white-space: pre;background: #fff0;line-height: 1.1;font-family: &quot;Courier New&quot;,Courier,monospace\">             ░                  ░       ░                  ░                 »\n",
              "q11_0: ──────░──────────────────░───────░────────■─────────░────────■────────»\n",
              "             ░                  ░ ┌───┐ ░        │         ░ ┌──────┴───────┐»\n",
              "q11_1: ──────░────────■─────────░─┤ H ├─░────────┼─────────░─┤ U(π/2,0,0,0) ├»\n",
              "       ┌───┐ ░ ┌──────┴───────┐ ░ └───┘ ░ ┌──────┴───────┐ ░ └──────────────┘»\n",
              "q11_2: ┤ H ├─░─┤ U(π/2,0,0,0) ├─░───────░─┤ U(π/4,0,0,0) ├─░─────────────────»\n",
              "       └───┘ ░ └──────────────┘ ░       ░ └──────────────┘ ░                 »\n",
              "q11_3: ──────░──────────────────░───────░──────────────────░─────────────────»\n",
              "             ░                  ░       ░                  ░                 »\n",
              " c2: 4/══════════════════════════════════════════════════════════════════════»\n",
              "                                                                             »\n",
              "«        ░ ┌───┐ ░     ░ \n",
              "«q11_0: ─░─┤ H ├─░──X──░─\n",
              "«        ░ └───┘ ░  │  ░ \n",
              "«q11_1: ─░───────░──┼──░─\n",
              "«        ░       ░  │  ░ \n",
              "«q11_2: ─░───────░──X──░─\n",
              "«        ░       ░     ░ \n",
              "«q11_3: ─░───────░─────░─\n",
              "«        ░       ░     ░ \n",
              "« c2: 4/═════════════════\n",
              "«                        </pre>"
            ]
          },
          "metadata": {},
          "execution_count": 33
        }
      ]
    }
  ]
}