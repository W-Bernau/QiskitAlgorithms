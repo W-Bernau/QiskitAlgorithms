{
  "nbformat": 4,
  "nbformat_minor": 0,
  "metadata": {
    "colab": {
      "provenance": [],
      "authorship_tag": "ABX9TyMyBNePGB3mDRTK9HFgjvMc",
      "include_colab_link": true
    },
    "kernelspec": {
      "name": "python3",
      "display_name": "Python 3"
    },
    "language_info": {
      "name": "python"
    }
  },
  "cells": [
    {
      "cell_type": "markdown",
      "metadata": {
        "id": "view-in-github",
        "colab_type": "text"
      },
      "source": [
        "<a href=\"https://colab.research.google.com/github/W-Bernau/QiskitAlgorithms/blob/main/Qiskit_Basics.ipynb\" target=\"_parent\"><img src=\"https://colab.research.google.com/assets/colab-badge.svg\" alt=\"Open In Colab\"/></a>"
      ]
    },
    {
      "cell_type": "code",
      "execution_count": 42,
      "metadata": {
        "colab": {
          "base_uri": "https://localhost:8080/",
          "height": 191
        },
        "id": "j3YT00jonxXe",
        "outputId": "416921ee-61b5-4964-c997-e26d2983a24e"
      },
      "outputs": [
        {
          "output_type": "execute_result",
          "data": {
            "text/plain": [
              "<Figure size 370.906x200.667 with 1 Axes>"
            ],
            "image/png": "[encoded data removed]"
          },
          "metadata": {},
          "execution_count": 42
        }
      ],
      "source": [
        "#Importing Libraries\n",
        "from qiskit import *\n",
        "from qiskit_aer import Aer\n",
        "from math import pi\n",
        "import numpy as np\n",
        "from qiskit.visualization import plot_bloch_multivector,plot_state_qsphere\n",
        "import matplotlib.pyplot as plt\n",
        "\n",
        "#Drawing a Basic Circuit\n",
        "qc = QuantumCircuit(2)\n",
        "qc.barrier()\n",
        "qc1 = qc.copy()\n",
        "qc.h(0)\n",
        "qc.barrier()\n",
        "qc2 =qc.copy()\n",
        "qc.draw('mpl')"
      ]
    },
    {
      "cell_type": "code",
      "source": [
        "#Showing two different states\n",
        "backend = Aer.get_backend('statevector_simulator')\n",
        "q1 = transpile(qc1,backend)\n",
        "job1 = (backend.run(q1)).result().get_statevector()\n",
        "\n",
        "backend = Aer.get_backend('statevector_simulator')\n",
        "q2 = transpile(qc2,backend)\n",
        "job2 = (backend.run(q2)).result().get_statevector()\n",
        "\n",
        "print(job1,job2)"
      ],
      "metadata": {
        "colab": {
          "base_uri": "https://localhost:8080/"
        },
        "id": "WMbsxShbp4qs",
        "outputId": "258980a0-1f69-43d8-fc3a-8b7b3905210f"
      },
      "execution_count": null,
      "outputs": [
        {
          "output_type": "stream",
          "name": "stdout",
          "text": [
            "Statevector([1.+0.j, 0.+0.j],\n",
            "            dims=(2,)) Statevector([0.70710678+0.j, 0.70710678+0.j],\n",
            "            dims=(2,))\n"
          ]
        }
      ]
    },
    {
      "cell_type": "code",
      "source": [],
      "metadata": {
        "colab": {
          "base_uri": "https://localhost:8080/"
        },
        "id": "btwhGz6rsR-e",
        "outputId": "85e05418-1384-4750-af97-ad447e415b31"
      },
      "execution_count": null,
      "outputs": [
        {
          "output_type": "stream",
          "name": "stdout",
          "text": [
            "Collecting qutip\n",
            "  Downloading qutip-5.0.2-cp310-cp310-manylinux_2_17_x86_64.manylinux2014_x86_64.whl (27.9 MB)\n",
            "\u001b[2K     \u001b[90m━━━━━━━━━━━━━━━━━━━━━━━━━━━━━━━━━━━━━━━━\u001b[0m \u001b[32m27.9/27.9 MB\u001b[0m \u001b[31m25.5 MB/s\u001b[0m eta \u001b[36m0:00:00\u001b[0m\n",
            "\u001b[?25hRequirement already satisfied: numpy<2.0.0,>=1.22 in /usr/local/lib/python3.10/dist-packages (from qutip) (1.25.2)\n",
            "Requirement already satisfied: scipy>=1.8 in /usr/local/lib/python3.10/dist-packages (from qutip) (1.11.4)\n",
            "Requirement already satisfied: packaging in /usr/local/lib/python3.10/dist-packages (from qutip) (24.0)\n",
            "Installing collected packages: qutip\n",
            "Successfully installed qutip-5.0.2\n"
          ]
        }
      ]
    }
  ]
}